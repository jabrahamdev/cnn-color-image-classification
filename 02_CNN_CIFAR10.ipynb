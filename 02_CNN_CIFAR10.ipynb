{
 "cells": [
  {
   "cell_type": "markdown",
   "id": "b064c18f-7c01-46c0-add3-28192770e6b0",
   "metadata": {},
   "source": [
    "# Image Classification (Color)\n",
    "# Convolutional Neural Networks Practice Project\n",
    "## (Keras | Tensorflow)\n",
    "_\n",
    "### Clasificación de imágenes (Color)\n",
    "**Práctica de CNN**\n"
   ]
  },
  {
   "cell_type": "code",
   "execution_count": 1,
   "id": "fb698a68-5f91-482f-9fa1-2a006505ba23",
   "metadata": {},
   "outputs": [],
   "source": [
    "%matplotlib inline\n",
    "import numpy as np\n",
    "import pandas as pd\n",
    "import matplotlib.pyplot as plt\n",
    "import seaborn as sns"
   ]
  },
  {
   "cell_type": "markdown",
   "id": "3e839056-b600-4af4-a677-773d77668f8e",
   "metadata": {},
   "source": [
    "---\n",
    "\n",
    "## Data | Datos\n",
    "\n",
    "**The data is the the CIFAR-10 dataset, consists of 60000 32x32 colour images in 10 classes, with 6000 images per class. There are 50000 training images and 10000 test images.**\n",
    "\n",
    "_\n",
    "\n",
    "\n",
    "Los datos son el dataset CIFAR-10, consta de 60000 imágenes en color de 32x32 en 10 clases, con 6000 imágenes por clase. Hay 50000 imágenes de entrenamiento y 10000 imágenes de prueba.\n",
    "\n"
   ]
  },
  {
   "cell_type": "markdown",
   "id": "9eb4c2ea-4262-4a40-8614-e9e3b3ccd7e1",
   "metadata": {},
   "source": [
    "### Class labels | Etiquetas de la clase\n",
    "\n",
    "  airplane : 0\n",
    "\n",
    "  automobile : 1\n",
    "  \n",
    "  bird : 2\n",
    "  \n",
    "  cat : 3\n",
    "  \n",
    "  deer : 4\n",
    "  \n",
    "  dog : 5\n",
    "  \n",
    "  frog : 6\n",
    "  \n",
    "  horse : 7\n",
    "  \n",
    "  ship : 8\n",
    "\n",
    "  truck : 9"
   ]
  },
  {
   "cell_type": "code",
   "execution_count": 2,
   "id": "06ee18ef-64dc-4f42-83ed-fb165010b69b",
   "metadata": {},
   "outputs": [],
   "source": [
    "from tensorflow.keras.datasets import cifar10"
   ]
  },
  {
   "cell_type": "code",
   "execution_count": 3,
   "id": "7b0a5e60-6070-416e-bec2-90509e44a562",
   "metadata": {},
   "outputs": [
    {
     "name": "stdout",
     "output_type": "stream",
     "text": [
      "Downloading data from https://www.cs.toronto.edu/~kriz/cifar-10-python.tar.gz\n",
      "170500096/170498071 [==============================] - 39s 0us/step\n"
     ]
    }
   ],
   "source": [
    "(x_train, y_train), (x_test, y_test) = cifar10.load_data()"
   ]
  },
  {
   "cell_type": "code",
   "execution_count": 8,
   "id": "66a8008f-876f-452c-9584-422e31e319ee",
   "metadata": {},
   "outputs": [
    {
     "data": {
      "text/plain": [
       "(50000, 32, 32, 3)"
      ]
     },
     "execution_count": 8,
     "metadata": {},
     "output_type": "execute_result"
    }
   ],
   "source": [
    "x_train.shape"
   ]
  },
  {
   "cell_type": "code",
   "execution_count": 7,
   "id": "62ef513e-c048-473d-9c9b-3c5c216c15fc",
   "metadata": {},
   "outputs": [
    {
     "data": {
      "text/plain": [
       "(32, 32, 3)"
      ]
     },
     "execution_count": 7,
     "metadata": {},
     "output_type": "execute_result"
    }
   ],
   "source": [
    "x_train[0].shape"
   ]
  },
  {
   "cell_type": "code",
   "execution_count": 9,
   "id": "d0746c56-4895-4f3b-b3a8-b689f076b16a",
   "metadata": {},
   "outputs": [
    {
     "data": {
      "text/plain": [
       "<matplotlib.image.AxesImage at 0x29c05727390>"
      ]
     },
     "execution_count": 9,
     "metadata": {},
     "output_type": "execute_result"
    },
    {
     "data": {
      "image/png": "[encoded data removed]",
      "text/plain": [
       "<Figure size 432x288 with 1 Axes>"
      ]
     },
     "metadata": {
      "needs_background": "light"
     },
     "output_type": "display_data"
    }
   ],
   "source": [
    "plt.imshow(x_train[0])"
   ]
  },
  {
   "cell_type": "markdown",
   "id": "7b74ebf3-12a3-4fec-abc2-f96ee68c7990",
   "metadata": {},
   "source": [
    "_\n",
    "\n",
    "**Scaling**\n",
    "\n",
    "**Since we are dealing with images  we can assume we are expecting values always between 0 and 255 and, a simple scaling  can be done just by dividing  255**\n",
    "\n",
    "Dado que estamos tratando con imágenes podemos suponer que estamos esperando valores siempre entre 0 y 255 y, se puede hacer un escalamiento simplemente dividiendo entre 255"
   ]
  },
  {
   "cell_type": "code",
   "execution_count": 10,
   "id": "22fa8d37-caaf-4013-b304-1240df4830de",
   "metadata": {},
   "outputs": [],
   "source": [
    "x_train = x_train/255\n",
    "x_test = x_test/255"
   ]
  },
  {
   "cell_type": "markdown",
   "id": "cf153e0f-184f-475d-ab49-d0d2cbdef02f",
   "metadata": {},
   "source": [
    "_\n",
    "\n",
    "**Let's make sure Keras knows this is a classification problem transforming the y label into categorical data**\n",
    "\n",
    "Hay que asegurarse que Keras sepa que este es un problema de clasificación transformando y en datos categóricos"
   ]
  },
  {
   "cell_type": "code",
   "execution_count": 11,
   "id": "add70d8e-a011-4cd4-a526-5f93c532ab46",
   "metadata": {},
   "outputs": [],
   "source": [
    "from tensorflow.keras.utils import to_categorical"
   ]
  },
  {
   "cell_type": "code",
   "execution_count": 12,
   "id": "e1db1666-6c2f-4132-bed0-1db091b7e069",
   "metadata": {},
   "outputs": [],
   "source": [
    "y_cat_train = to_categorical(y_train,10)\n",
    "y_cat_test = to_categorical(y_test,10)"
   ]
  },
  {
   "cell_type": "markdown",
   "id": "353142cc-d45e-4ebe-bf70-ab5ec2550c6d",
   "metadata": {},
   "source": [
    "### Model | Modelo"
   ]
  },
  {
   "cell_type": "code",
   "execution_count": 14,
   "id": "c3783fec-2f56-416c-9bda-fe3b8b007095",
   "metadata": {},
   "outputs": [
    {
     "data": {
      "text/plain": [
       "(50000, 32, 32, 3)"
      ]
     },
     "execution_count": 14,
     "metadata": {},
     "output_type": "execute_result"
    }
   ],
   "source": [
    "x_train.shape"
   ]
  },
  {
   "cell_type": "code",
   "execution_count": 15,
   "id": "30e02d86-d0cb-4edb-b2e6-5b5afd45bdc8",
   "metadata": {},
   "outputs": [],
   "source": [
    "from tensorflow.keras.models import Sequential\n",
    "from tensorflow.keras.layers import Dense, Conv2D, MaxPool2D, Flatten"
   ]
  },
  {
   "cell_type": "code",
   "execution_count": 16,
   "id": "befe3ae3-8d84-4b69-94d7-6fbc36c02e3c",
   "metadata": {},
   "outputs": [],
   "source": [
    "model = Sequential()\n",
    "\n",
    "#  CONVO\n",
    "model.add(Conv2D(filters=32, kernel_size=(4,4), input_shape=(32,32,3), activation='relu'))\n",
    "# POOL\n",
    "model.add(MaxPool2D(pool_size=(2,2)))\n",
    "\n",
    "#  CONVO\n",
    "model.add(Conv2D(filters=32, kernel_size=(4,4), input_shape=(32,32,3), activation='relu'))\n",
    "# POOL\n",
    "model.add(MaxPool2D(pool_size=(2,2)))\n",
    "\n",
    "\n",
    "model.add(Flatten())\n",
    "\n",
    "model.add(Dense(256, activation='relu'))\n",
    "\n",
    "model.add(Dense(10, activation='softmax'))\n",
    "\n",
    "model.compile(loss='categorical_crossentropy', optimizer='adam', metrics=['accuracy'])"
   ]
  },
  {
   "cell_type": "code",
   "execution_count": 17,
   "id": "47c33ff8-d587-4962-aa60-566dbd41a183",
   "metadata": {},
   "outputs": [
    {
     "name": "stdout",
     "output_type": "stream",
     "text": [
      "Model: \"sequential\"\n",
      "_________________________________________________________________\n",
      "Layer (type)                 Output Shape              Param #   \n",
      "=================================================================\n",
      "conv2d (Conv2D)              (None, 29, 29, 32)        1568      \n",
      "_________________________________________________________________\n",
      "max_pooling2d (MaxPooling2D) (None, 14, 14, 32)        0         \n",
      "_________________________________________________________________\n",
      "conv2d_1 (Conv2D)            (None, 11, 11, 32)        16416     \n",
      "_________________________________________________________________\n",
      "max_pooling2d_1 (MaxPooling2 (None, 5, 5, 32)          0         \n",
      "_________________________________________________________________\n",
      "flatten (Flatten)            (None, 800)               0         \n",
      "_________________________________________________________________\n",
      "dense (Dense)                (None, 256)               205056    \n",
      "_________________________________________________________________\n",
      "dense_1 (Dense)              (None, 10)                2570      \n",
      "=================================================================\n",
      "Total params: 225,610\n",
      "Trainable params: 225,610\n",
      "Non-trainable params: 0\n",
      "_________________________________________________________________\n"
     ]
    }
   ],
   "source": [
    "model.summary()"
   ]
  },
  {
   "cell_type": "code",
   "execution_count": 20,
   "id": "ab2b3a8d-95ea-441d-9021-e2a9d06ebe93",
   "metadata": {},
   "outputs": [],
   "source": [
    "from tensorflow.keras.callbacks import EarlyStopping"
   ]
  },
  {
   "cell_type": "code",
   "execution_count": 21,
   "id": "bb38fd76-97dc-4fd2-979a-8ae526ad5283",
   "metadata": {},
   "outputs": [],
   "source": [
    "early_stop = EarlyStopping(monitor='val_loss', patience=2)"
   ]
  },
  {
   "cell_type": "code",
   "execution_count": 24,
   "id": "c9cdf680-450b-4c3e-8436-57524f3ea3a2",
   "metadata": {},
   "outputs": [
    {
     "name": "stdout",
     "output_type": "stream",
     "text": [
      "Epoch 1/15\n",
      "1563/1563 [==============================] - 23s 15ms/step - loss: 1.7271 - accuracy: 0.3677 - val_loss: 1.3117 - val_accuracy: 0.5316\n",
      "Epoch 2/15\n",
      "1563/1563 [==============================] - 24s 15ms/step - loss: 1.2140 - accuracy: 0.5672 - val_loss: 1.1225 - val_accuracy: 0.6074\n",
      "Epoch 3/15\n",
      "1563/1563 [==============================] - 24s 16ms/step - loss: 1.0372 - accuracy: 0.6315 - val_loss: 1.0546 - val_accuracy: 0.6323\n",
      "Epoch 4/15\n",
      "1563/1563 [==============================] - 24s 15ms/step - loss: 0.9202 - accuracy: 0.6778 - val_loss: 1.0076 - val_accuracy: 0.6486\n",
      "Epoch 5/15\n",
      "1563/1563 [==============================] - 23s 14ms/step - loss: 0.8225 - accuracy: 0.7104 - val_loss: 0.9818 - val_accuracy: 0.6612\n",
      "Epoch 6/15\n",
      "1563/1563 [==============================] - 23s 15ms/step - loss: 0.7377 - accuracy: 0.7407 - val_loss: 1.0050 - val_accuracy: 0.6631\n",
      "Epoch 7/15\n",
      "1563/1563 [==============================] - 23s 15ms/step - loss: 0.6735 - accuracy: 0.7637 - val_loss: 0.9806 - val_accuracy: 0.6773\n",
      "Epoch 8/15\n",
      "1563/1563 [==============================] - 23s 14ms/step - loss: 0.5944 - accuracy: 0.7884 - val_loss: 0.9551 - val_accuracy: 0.6845\n",
      "Epoch 9/15\n",
      "1563/1563 [==============================] - 23s 15ms/step - loss: 0.5341 - accuracy: 0.8134 - val_loss: 1.0405 - val_accuracy: 0.6721\n",
      "Epoch 10/15\n",
      "1563/1563 [==============================] - 23s 15ms/step - loss: 0.4715 - accuracy: 0.8329 - val_loss: 1.0538 - val_accuracy: 0.6856\n"
     ]
    },
    {
     "data": {
      "text/plain": [
       "<tensorflow.python.keras.callbacks.History at 0x29c107bcda0>"
      ]
     },
     "execution_count": 24,
     "metadata": {},
     "output_type": "execute_result"
    }
   ],
   "source": [
    "model.fit(x_train, y_cat_train, validation_data=(x_test, y_cat_test), epochs=15, callbacks=[early_stop])"
   ]
  },
  {
   "cell_type": "markdown",
   "id": "40f547b5-3a1d-4ddf-8d35-f10bacac2e02",
   "metadata": {},
   "source": [
    "---\n",
    "## Performance Evaluation | Evaluación del desempeño"
   ]
  },
  {
   "cell_type": "code",
   "execution_count": 27,
   "id": "4fa9f70f-e6e6-40d1-a0a7-ef7f4f148085",
   "metadata": {},
   "outputs": [
    {
     "data": {
      "text/html": [
       "<div>\n",
       "<style scoped>\n",
       "    .dataframe tbody tr th:only-of-type {\n",
       "        vertical-align: middle;\n",
       "    }\n",
       "\n",
       "    .dataframe tbody tr th {\n",
       "        vertical-align: top;\n",
       "    }\n",
       "\n",
       "    .dataframe thead th {\n",
       "        text-align: right;\n",
       "    }\n",
       "</style>\n",
       "<table border=\"1\" class=\"dataframe\">\n",
       "  <thead>\n",
       "    <tr style=\"text-align: right;\">\n",
       "      <th></th>\n",
       "      <th>loss</th>\n",
       "      <th>accuracy</th>\n",
       "      <th>val_loss</th>\n",
       "      <th>val_accuracy</th>\n",
       "    </tr>\n",
       "  </thead>\n",
       "  <tbody>\n",
       "    <tr>\n",
       "      <th>0</th>\n",
       "      <td>1.512545</td>\n",
       "      <td>0.45288</td>\n",
       "      <td>1.311735</td>\n",
       "      <td>0.5316</td>\n",
       "    </tr>\n",
       "    <tr>\n",
       "      <th>1</th>\n",
       "      <td>1.187787</td>\n",
       "      <td>0.57974</td>\n",
       "      <td>1.122527</td>\n",
       "      <td>0.6074</td>\n",
       "    </tr>\n",
       "    <tr>\n",
       "      <th>2</th>\n",
       "      <td>1.033572</td>\n",
       "      <td>0.63420</td>\n",
       "      <td>1.054638</td>\n",
       "      <td>0.6323</td>\n",
       "    </tr>\n",
       "    <tr>\n",
       "      <th>3</th>\n",
       "      <td>0.920076</td>\n",
       "      <td>0.67854</td>\n",
       "      <td>1.007635</td>\n",
       "      <td>0.6486</td>\n",
       "    </tr>\n",
       "    <tr>\n",
       "      <th>4</th>\n",
       "      <td>0.832024</td>\n",
       "      <td>0.70782</td>\n",
       "      <td>0.981771</td>\n",
       "      <td>0.6612</td>\n",
       "    </tr>\n",
       "    <tr>\n",
       "      <th>5</th>\n",
       "      <td>0.751575</td>\n",
       "      <td>0.73738</td>\n",
       "      <td>1.004979</td>\n",
       "      <td>0.6631</td>\n",
       "    </tr>\n",
       "    <tr>\n",
       "      <th>6</th>\n",
       "      <td>0.682497</td>\n",
       "      <td>0.75980</td>\n",
       "      <td>0.980554</td>\n",
       "      <td>0.6773</td>\n",
       "    </tr>\n",
       "    <tr>\n",
       "      <th>7</th>\n",
       "      <td>0.616950</td>\n",
       "      <td>0.78250</td>\n",
       "      <td>0.955105</td>\n",
       "      <td>0.6845</td>\n",
       "    </tr>\n",
       "    <tr>\n",
       "      <th>8</th>\n",
       "      <td>0.552252</td>\n",
       "      <td>0.80584</td>\n",
       "      <td>1.040494</td>\n",
       "      <td>0.6721</td>\n",
       "    </tr>\n",
       "    <tr>\n",
       "      <th>9</th>\n",
       "      <td>0.493722</td>\n",
       "      <td>0.82616</td>\n",
       "      <td>1.053789</td>\n",
       "      <td>0.6856</td>\n",
       "    </tr>\n",
       "  </tbody>\n",
       "</table>\n",
       "</div>"
      ],
      "text/plain": [
       "       loss  accuracy  val_loss  val_accuracy\n",
       "0  1.512545   0.45288  1.311735        0.5316\n",
       "1  1.187787   0.57974  1.122527        0.6074\n",
       "2  1.033572   0.63420  1.054638        0.6323\n",
       "3  0.920076   0.67854  1.007635        0.6486\n",
       "4  0.832024   0.70782  0.981771        0.6612\n",
       "5  0.751575   0.73738  1.004979        0.6631\n",
       "6  0.682497   0.75980  0.980554        0.6773\n",
       "7  0.616950   0.78250  0.955105        0.6845\n",
       "8  0.552252   0.80584  1.040494        0.6721\n",
       "9  0.493722   0.82616  1.053789        0.6856"
      ]
     },
     "execution_count": 27,
     "metadata": {},
     "output_type": "execute_result"
    }
   ],
   "source": [
    "metrics = pd.DataFrame(model.history.history)\n",
    "metrics"
   ]
  },
  {
   "cell_type": "code",
   "execution_count": 31,
   "id": "68d1be1e-a8ec-48e9-92cf-e8ac629b4574",
   "metadata": {},
   "outputs": [
    {
     "data": {
      "text/plain": [
       "<matplotlib.axes._subplots.AxesSubplot at 0x29c10c71a90>"
      ]
     },
     "execution_count": 31,
     "metadata": {},
     "output_type": "execute_result"
    },
    {
     "data": {
      "image/png": "[encoded data removed]",
      "text/plain": [
       "<Figure size 432x288 with 1 Axes>"
      ]
     },
     "metadata": {
      "needs_background": "light"
     },
     "output_type": "display_data"
    }
   ],
   "source": [
    "metrics[['loss','val_loss']].plot()"
   ]
  },
  {
   "cell_type": "code",
   "execution_count": 32,
   "id": "eb60028d-f15b-4305-a108-c59c68f331ba",
   "metadata": {},
   "outputs": [
    {
     "data": {
      "text/plain": [
       "<matplotlib.axes._subplots.AxesSubplot at 0x29c10c6df98>"
      ]
     },
     "execution_count": 32,
     "metadata": {},
     "output_type": "execute_result"
    },
    {
     "data": {
      "image/png": "[encoded data removed]",
      "text/plain": [
       "<Figure size 432x288 with 1 Axes>"
      ]
     },
     "metadata": {
      "needs_background": "light"
     },
     "output_type": "display_data"
    }
   ],
   "source": [
    "metrics[['accuracy','val_accuracy']].plot()"
   ]
  },
  {
   "cell_type": "code",
   "execution_count": 34,
   "id": "5b0c8851-eaa8-4a0f-b9d5-4f1c0cedd3a5",
   "metadata": {},
   "outputs": [
    {
     "data": {
      "text/plain": [
       "['loss', 'accuracy']"
      ]
     },
     "execution_count": 34,
     "metadata": {},
     "output_type": "execute_result"
    }
   ],
   "source": [
    "model.metrics_names"
   ]
  },
  {
   "cell_type": "code",
   "execution_count": 33,
   "id": "8143bcaa-552c-4702-9e82-6237e859bad8",
   "metadata": {},
   "outputs": [
    {
     "data": {
      "text/plain": [
       "[1.0537892580032349, 0.6855999827384949]"
      ]
     },
     "execution_count": 33,
     "metadata": {},
     "output_type": "execute_result"
    }
   ],
   "source": [
    "model.evaluate(x_test, y_cat_test, verbose=0)"
   ]
  },
  {
   "cell_type": "code",
   "execution_count": 35,
   "id": "94dc9508-f0a7-4e38-b0a6-7167974d7c09",
   "metadata": {},
   "outputs": [],
   "source": [
    "from sklearn.metrics import classification_report, confusion_matrix"
   ]
  },
  {
   "cell_type": "code",
   "execution_count": 36,
   "id": "9f840d7d-36b7-4187-a34b-62f71896a818",
   "metadata": {},
   "outputs": [],
   "source": [
    "predictions = np.argmax(model.predict(x_test), axis=-1)"
   ]
  },
  {
   "cell_type": "code",
   "execution_count": 37,
   "id": "20068c78-48a9-4332-a1d9-bb3faf81d7c4",
   "metadata": {},
   "outputs": [
    {
     "name": "stdout",
     "output_type": "stream",
     "text": [
      "              precision    recall  f1-score   support\n",
      "\n",
      "           0       0.73      0.70      0.72      1000\n",
      "           1       0.81      0.78      0.79      1000\n",
      "           2       0.62      0.56      0.59      1000\n",
      "           3       0.50      0.53      0.51      1000\n",
      "           4       0.61      0.65      0.63      1000\n",
      "           5       0.58      0.57      0.58      1000\n",
      "           6       0.75      0.78      0.76      1000\n",
      "           7       0.79      0.69      0.73      1000\n",
      "           8       0.81      0.76      0.78      1000\n",
      "           9       0.69      0.84      0.76      1000\n",
      "\n",
      "    accuracy                           0.69     10000\n",
      "   macro avg       0.69      0.69      0.69     10000\n",
      "weighted avg       0.69      0.69      0.69     10000\n",
      "\n"
     ]
    }
   ],
   "source": [
    "print(classification_report(y_test, predictions))"
   ]
  },
  {
   "cell_type": "code",
   "execution_count": 39,
   "id": "721f1718-3ee2-480a-ae23-9cb170da5777",
   "metadata": {},
   "outputs": [
    {
     "data": {
      "text/plain": [
       "<matplotlib.axes._subplots.AxesSubplot at 0x29c10b0a710>"
      ]
     },
     "execution_count": 39,
     "metadata": {},
     "output_type": "execute_result"
    },
    {
     "data": {
      "image/png": "[encoded data removed]",
      "text/plain": [
       "<Figure size 1000x500 with 2 Axes>"
      ]
     },
     "metadata": {
      "needs_background": "light"
     },
     "output_type": "display_data"
    }
   ],
   "source": [
    "plt.figure(dpi=100, figsize=(10,5))\n",
    "sns.heatmap(confusion_matrix(y_test, predictions), annot=True)"
   ]
  },
  {
   "cell_type": "markdown",
   "id": "87ae8ae1-1a32-4f34-b8ba-f8823b6026f7",
   "metadata": {},
   "source": [
    "---\n",
    "## Prediction on a new image\n",
    "\n",
    "**Predicción sobre una nueva imagen**"
   ]
  },
  {
   "cell_type": "code",
   "execution_count": 45,
   "id": "88da0eb0-f014-4e9b-a514-7caba7a5773b",
   "metadata": {},
   "outputs": [],
   "source": [
    "new_image = x_test[0]"
   ]
  },
  {
   "cell_type": "code",
   "execution_count": 46,
   "id": "20d9d36f-62c9-4116-b6c3-42ee7c263e3f",
   "metadata": {},
   "outputs": [
    {
     "data": {
      "text/plain": [
       "<matplotlib.image.AxesImage at 0x29c6a6b1ac8>"
      ]
     },
     "execution_count": 46,
     "metadata": {},
     "output_type": "execute_result"
    },
    {
     "data": {
      "image/png": "[encoded data removed]",
      "text/plain": [
       "<Figure size 432x288 with 1 Axes>"
      ]
     },
     "metadata": {
      "needs_background": "light"
     },
     "output_type": "display_data"
    }
   ],
   "source": [
    "plt.imshow(new_image)"
   ]
  },
  {
   "cell_type": "code",
   "execution_count": 48,
   "id": "0445526e-7a57-4415-a6ce-bd41ee384198",
   "metadata": {},
   "outputs": [
    {
     "data": {
      "text/plain": [
       "array([3], dtype=int64)"
      ]
     },
     "execution_count": 48,
     "metadata": {},
     "output_type": "execute_result"
    }
   ],
   "source": [
    "np.argmax(model.predict(new_image.reshape(1,32,32,3)), axis=-1)"
   ]
  },
  {
   "cell_type": "code",
   "execution_count": 50,
   "id": "b0f2d53f-8c38-437b-891b-3664501a76ae",
   "metadata": {},
   "outputs": [
    {
     "data": {
      "text/plain": [
       "3"
      ]
     },
     "execution_count": 50,
     "metadata": {},
     "output_type": "execute_result"
    }
   ],
   "source": [
    "np.argmax(y_cat_test[0])"
   ]
  },
  {
   "cell_type": "markdown",
   "id": "44dda2bc-d7bb-447e-b51d-3afed1f8e364",
   "metadata": {},
   "source": [
    "## Model predicted accurately\n",
    "\n",
    "**El modelo predijo con precisión**"
   ]
  },
  {
   "cell_type": "code",
   "execution_count": null,
   "id": "a3cea13e-4870-4f14-a9f1-e402bed824ec",
   "metadata": {},
   "outputs": [],
   "source": []
  }
 ],
 "metadata": {
  "kernelspec": {
   "display_name": "Python 3",
   "language": "python",
   "name": "python3"
  },
  "language_info": {
   "codemirror_mode": {
    "name": "ipython",
    "version": 3
   },
   "file_extension": ".py",
   "mimetype": "text/x-python",
   "name": "python",
   "nbconvert_exporter": "python",
   "pygments_lexer": "ipython3",
   "version": "3.6.9"
  }
 },
 "nbformat": 4,
 "nbformat_minor": 5
}
